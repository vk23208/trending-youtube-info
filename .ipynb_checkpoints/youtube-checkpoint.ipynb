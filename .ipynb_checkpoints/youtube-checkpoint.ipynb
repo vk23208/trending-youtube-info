{
 "cells": [
  {
   "cell_type": "code",
   "execution_count": 23,
   "metadata": {},
   "outputs": [],
   "source": [
    "'to check what are the trending videos of youtube'\n",
    "from selenium import webdriver\n",
    "\n",
    "# Using Chrome to access web\n",
    "driver = webdriver.Chrome(r\"/home/vishal/anaconda3/chromedriver\") #address for the webdriver\n",
    "url = 'https://www.youtube.com/feed/trending'\n",
    "\n",
    "driver.get(url)\n",
    "\n",
    "# find all titles\n",
    "titles = driver.find_elements_by_id('video-title')\n",
    "\n",
    "names = []\n",
    "for title in titles:\n",
    "    k = title.text\n",
    "    names.append(k)\n",
    "\n",
    "# find respective viewcount\n",
    "viewcounts = driver.find_elements_by_xpath('//*[@id=\"metadata-line\"]/span[1]')\n",
    "\n",
    "views = []\n",
    "for viewcount in viewcounts:\n",
    "    l = viewcount.text\n",
    "    views.append(l)\n",
    "\n",
    "# video out in how many days/hours\n",
    "videoouts = driver.find_elements_by_xpath('//*[@id=\"metadata-line\"]/span[2]')\n",
    "time = []\n",
    "\n",
    "for videoout in videoouts:\n",
    "    m = videoout.text\n",
    "    time.append(m)\n",
    "\n",
    "#scrape all publish houses they are from\n",
    "\n",
    "# channels = driver.find_elements_by_xpath('//*[@id=\"byline\"]/a')\n",
    "# channel = []\n",
    "\n",
    "# for i in channels:\n",
    "#     n =i.text\n",
    "#     channel.append(n)\n",
    "########################################################################\n",
    "\n",
    "'storing all data in a csv for processing'\n",
    "import pandas as pd\n",
    "\n",
    "'after searching for half an hour i concluded that its easy for dictionaries to save in csv format'\n",
    "\n",
    "columns = ['Title','View_count','uploaded_on']\n",
    "dict1 = {'Title':names,'View_count':views,'uploaded_on':time}\n",
    "df = pd.DataFrame(dict1, columns=columns)\n",
    "df.to_excel('/home/vishal/gittesting/trending_youtube/trending-youtube-info/treding.xlsx',header=True, index=False, encoding='utf-8') #address for the downloaded csv file\n",
    "\n"
   ]
  },
  {
   "cell_type": "code",
   "execution_count": 17,
   "metadata": {},
   "outputs": [
    {
     "data": {
      "text/plain": [
       "80"
      ]
     },
     "execution_count": 17,
     "metadata": {},
     "output_type": "execute_result"
    }
   ],
   "source": [
    "len(views)"
   ]
  },
  {
   "cell_type": "code",
   "execution_count": 20,
   "metadata": {},
   "outputs": [
    {
     "data": {
      "text/plain": [
       "80"
      ]
     },
     "execution_count": 20,
     "metadata": {},
     "output_type": "execute_result"
    }
   ],
   "source": [
    "len(names)"
   ]
  },
  {
   "cell_type": "code",
   "execution_count": 21,
   "metadata": {},
   "outputs": [
    {
     "data": {
      "text/plain": [
       "80"
      ]
     },
     "execution_count": 21,
     "metadata": {},
     "output_type": "execute_result"
    }
   ],
   "source": [
    "len(time)"
   ]
  },
  {
   "cell_type": "code",
   "execution_count": null,
   "metadata": {},
   "outputs": [],
   "source": []
  },
  {
   "cell_type": "code",
   "execution_count": null,
   "metadata": {},
   "outputs": [],
   "source": []
  },
  {
   "cell_type": "code",
   "execution_count": null,
   "metadata": {},
   "outputs": [],
   "source": []
  }
 ],
 "metadata": {
  "kernelspec": {
   "display_name": "Python 3",
   "language": "python",
   "name": "python3"
  },
  "language_info": {
   "codemirror_mode": {
    "name": "ipython",
    "version": 3
   },
   "file_extension": ".py",
   "mimetype": "text/x-python",
   "name": "python",
   "nbconvert_exporter": "python",
   "pygments_lexer": "ipython3",
   "version": "3.8.3"
  }
 },
 "nbformat": 4,
 "nbformat_minor": 4
}
